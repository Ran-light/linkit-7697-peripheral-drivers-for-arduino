{
  "nbformat": 4,
  "nbformat_minor": 0,
  "metadata": {
    "colab": {
      "name": "“CourseLab_NodalAnalysis_assignment.ipynb”的副本",
      "provenance": [],
      "collapsed_sections": [],
      "toc_visible": true,
      "include_colab_link": true
    },
    "kernelspec": {
      "display_name": "Python 3",
      "language": "python",
      "name": "python3"
    },
    "language_info": {
      "codemirror_mode": {
        "name": "ipython",
        "version": 3
      },
      "file_extension": ".py",
      "mimetype": "text/x-python",
      "name": "python",
      "nbconvert_exporter": "python",
      "pygments_lexer": "ipython3",
      "version": "3.8.3"
    }
  },
  "cells": [
    {
      "cell_type": "markdown",
      "metadata": {
        "id": "view-in-github",
        "colab_type": "text"
      },
      "source": [
        "<a href=\"https://colab.research.google.com/github/Ran-light/linkit-7697-peripheral-drivers-for-arduino/blob/master/%E2%80%9CCourseLab_NodalAnalysis_assignment_ipynb%E2%80%9D%E7%9A%84%E5%89%AF%E6%9C%AC.ipynb\" target=\"_parent\"><img src=\"https://colab.research.google.com/assets/colab-badge.svg\" alt=\"Open In Colab\"/></a>"
      ]
    },
    {
      "cell_type": "markdown",
      "metadata": {
        "id": "YxS4wK-LABgO"
      },
      "source": [
        "#![picture zero](https://drive.google.com/uc?export=view&id=1FpiLZ1HNiqzVd7YYozxfqDw4_9VyZmfZ)\n",
        "<p align=\"center\">\n",
        "\n",
        "*Author: Bahareh Abdi, last update: 04/10/2021*"
      ]
    },
    {
      "cell_type": "markdown",
      "metadata": {
        "id": "EEp3rVAn0Wup"
      },
      "source": [
        "\n",
        "\n",
        "# Assignment Week 1.6: Python for Circuit Analysis\n",
        "\n",
        "<font color='red'> Please read the assignment carefully and do the steps one after another. First save a copy on your own Drive to svae your changes there. You should complete the code where it is noted by \"# your code \", it can be one or multiple lines of code. You should also complete the text where it is noted by \"your answer here\" and \"your picture here\". Please pay attention to the comments in the code too, as they may include some instructions. Once you are done, go to Runtime > Restart and run all to make sure every thing runs somoothly and all the outputs are there. Then you should share a link to your notebook with us via brightspace > assignment > python nodal analysis or [click here](https://brightspace.tudelft.nl/d2l/lms/dropbox/admin/mark/folder_submissions_users.d2l?db=88476&ou=399955). \n",
        "Make sure you choose the option __\"any one with the link\"__ and __\"Editor\"__. Also make sure you don't change or remove the file before it is assessed by us. Don't hesitate to post your questions in \"Python: ask a TA\" channel on Teams, that can save you a lot of time and frustration.\n",
        "</font> "
      ]
    },
    {
      "cell_type": "markdown",
      "metadata": {
        "id": "MZ9DYm9DqYAq"
      },
      "source": [
        "## Study goals: The big picture\n",
        "\n",
        "After this assignment, you should be able to simulate in Python the behaviour of linear circuits with nodal analysis. \n",
        "\n",
        "To reach this goal, you should automate the calculation of nodal voltages in an extensive circuit with resistors, voltage and current sources. A problem with such a circuit is given to you in step 4 of this assignment.  Using the specifications of this circuit your code should calculate the nodal voltages. But let's not jump to that! and first see how we can do that in simpler steps:\n",
        "\n",
        "* Step 1:  we solve a simple system of linear equations (that we derived by hand earlier) in python by using matrix multiplication.\n",
        "\n",
        "We then focus on automating the whole process so that by giving the circuit structure and values, we can get the nodal voltages. To do so we continue with step 2.\n",
        "\n",
        "* Step 2: we start with a simple circuit and derive the proper formulation for its matrix representation.\n",
        "\n",
        "* Step 3:  Next we look for patterns in these equations and try to generalize them to bigger and more complicated circuits. We then implement these equations in code and use them to calculate nodal voltages.\n",
        "\n",
        "* Step 4: finally we use our previously developed code to simulate and solve a extensive circuit.\n",
        "\n",
        "Ready now? Let's get started!\n",
        "\n",
        "\n",
        "\n",
        "\n"
      ]
    },
    {
      "cell_type": "markdown",
      "metadata": {
        "id": "ZWonH_fIHDEw"
      },
      "source": [
        "## STEP 1: Linear equations as matrix multiplication\n",
        "\n"
      ]
    },
    {
      "cell_type": "markdown",
      "metadata": {
        "id": "kgvgRG2WVPR8"
      },
      "source": [
        "### 1.1. Why matrix multiplication\n",
        "As you have seen during the __Linear Circuits A__, when solving a circuit using nodal analysis we usually end up with linear equations with node voltages as the unknown variables. So far, we have been solving these equations by hand, but this is both time consuming and not practical in larger circuits. An efficient and fast way to solve these system of linear equations is to represent them as matrix multiplication and solve them using matrix inversion. This approach is very common in large scale mathematical modeling and simulation because by doing so we can later use many different and efficient programming tools designed for the task. \n",
        "\n",
        "Let's start with a simple example to help you understand the concept. When solving Problem 3.20 of the book during the linear circuits A instruction\n",
        " ([handouts instruction](https://brightspace.tudelft.nl/content/enforced/399945-EE1C11+2021+1/Files/The%20Course/Week%201.3/EE1C11_Instruction_2_week_1_3.pdf?_&d2lSessionVal=vO15IARH221L3verEtu9yDs9j&ou=399945), slide 18), we ended up with the following three equations:\n",
        "\n",
        "\n",
        "$$\n",
        "\\begin{cases}\n",
        "2V{_1}-2V{_2}-V{_3}=0\\\\\n",
        "V{_1}-V{_3}=12\\\\\n",
        "V{_1}+4V{_2}+V{_3}=0\\\\\n",
        "\\end{cases} \n",
        "$$\n",
        "\n",
        "\n",
        "There, you saw that even with 3 unknown variables, it is very slow to solve the equations by hand. So what can we do instead? \n",
        "\n",
        "\n"
      ]
    },
    {
      "cell_type": "markdown",
      "metadata": {
        "id": "YmFglhU3HraN"
      },
      "source": [
        "### 1.2 Matrix representation\n",
        "We can rewrite and solve the previous equations using matrix multiplication. To do so, we should first represent this system of equations as a matrix multiplication, here is how:\n",
        "\n",
        "\n",
        "$$\n",
        "\\begin{cases}\n",
        "2V{_1}-2V{_2}-V{_3}=0\\\\\n",
        "V{_1}-V{_3}=12\\\\\n",
        "V{_1}+4V{_2}+V{_3}=0\\\\\n",
        "\\end{cases} \\quad \\rightarrow  \\quad  \\begin{bmatrix}\n",
        "   2 & -2 & -1 \\\\\n",
        "   1 & 0 & -1 \\\\\n",
        "   1 & 4 & 1 \n",
        "  \\end{bmatrix}\\begin{bmatrix}\n",
        "   V1 \\\\\n",
        "   V2 \\\\\n",
        "   V3 \n",
        "  \\end{bmatrix}= \\begin{bmatrix}\n",
        "   0 \\\\\n",
        "   12 \\\\\n",
        "   0 \n",
        "  \\end{bmatrix} \n",
        "$$\n",
        "\n",
        "\n",
        "$$\n",
        "\\quad \\rightarrow  \\quad GV=I \\tag{1}\n",
        "$$\n",
        "\n",
        "\n",
        "As you can see we put all the coefficients in matrix $G$, all the unknown variables (that is node voltages) in vector $V$, and the constants (on the right hand side of the equations) in vector $I$.\n",
        "\n",
        "To find $V$, we can follow the same concept we use when solving an algebraic equation like 3x=6. We multiply each side by the inverse of the coefficent (that is 1/3). To solve Eq. 1 we can also multiply each side by $G^{-1}$ (the inverse of matrix $G$) as:\n",
        "\n",
        "$$\n",
        "V = G^{-1} I \\tag{2}\n",
        "$$\n"
      ]
    },
    {
      "cell_type": "markdown",
      "metadata": {
        "id": "ovOBtbcAHlo1"
      },
      "source": [
        "### 1.3. Python Implementation\n",
        "Now let's define and solve these equations in Python. First, complete the code below to define matrix G and I. Don't forget to define these matrices as numpy arrays! The correct shap for G and I should be (3,3) and (3,1) respectively."
      ]
    },
    {
      "cell_type": "code",
      "metadata": {
        "id": "ZBDee9QDVPR-"
      },
      "source": [
        "# import numpy\n",
        "import numpy as np\n",
        "\n",
        "# define matrix G and I\n",
        "G = np.array(#your code )\n",
        "I = np.array(#your code )"
      ],
      "execution_count": null,
      "outputs": []
    },
    {
      "cell_type": "markdown",
      "metadata": {
        "id": "tk025yboVPSA"
      },
      "source": [
        "We can now calculate $V$ by using Eq. (2). To inverse $G$ you can point your wand to it and say __finite  incantatem__ 🧙‍♀️! If that didn't work, calling `np.linalg.inv(G)` will also do the magic! Note that matrix multiplication is different from scalar multiplication or element-wise multiplicstion and it is done in NumPy by using the `@` operator (e.g. `A@B`, with A and B as example matrices) or `.dot()` (e.g. `A.dot(B)`). Complete the code below to find `inv_G` and `V`."
      ]
    },
    {
      "cell_type": "code",
      "metadata": {
        "id": "KAB_WnZxVPSA"
      },
      "source": [
        "# find G^-1\n",
        "inv_G = #your code\n",
        "\n",
        "# find V\n",
        "V = #your code \n",
        "\n",
        "# print V (for a quick check)\n",
        "print(V)"
      ],
      "execution_count": null,
      "outputs": []
    },
    {
      "cell_type": "markdown",
      "metadata": {
        "id": "UOrQXvTOsjAX"
      },
      "source": [
        "\n",
        "## STEP 2: Solving the circuit by hand\n",
        "\n",
        "So far, we saw how we can automate solving for node voltages in python. In this part, we want to go a step further and automate the generation of matrices G and I for a given circuit. To do so we start with a simple citcuit shown in the Fig 1. We first derive the quations for G and I by hand and then try to look and find the patterns and formulas for making these matrices for any given circuit.\n",
        "\n",
        "In the circuit shown in Fig. 1, the non-ideal voltage sources are modeled with their Thevenin equivalent: $V_s$ in series with $R_s$. Loads are modeled as negative current sources $I_{ld}$, which are connected to the nodes. We also assume that all negative poles of the current and voltage sources are connected to the earth, which is used as a reference for all calculations.\n",
        "\n",
        "#![picture one](https://drive.google.com/uc?export=view&id=1BZcXhvQWmKu2ul2R0y_O5nYrVMGwz21t)\n",
        "<p align=\"center\"> Figure 1: An example of a circuit with four nodes, two sources and one load.\n",
        "</p> \n",
        "\n",
        "\n",
        "\n"
      ]
    },
    {
      "cell_type": "markdown",
      "metadata": {
        "id": "4nLzCOk1Pw11"
      },
      "source": [
        "### 2.1.  Time to get your hands dirty!\n",
        "Grab a piece of paper and a pen 📝 and perform nodal analysis for the circuit in Fig. 1 by hand ✍️. Determine for each node Kirchhoff’s current law. Don't forget to express the currents as voltages over resistances as you did for solving problems in __linear circuits A__ using nodal analysis. For now we don't use any numerical value but only variables. (You don't need to show or send us these equations) \n",
        "\n"
      ]
    },
    {
      "cell_type": "markdown",
      "metadata": {
        "id": "z1M_NAjfH0-T"
      },
      "source": [
        "### 2.2.  Form the system of linear equations \n",
        "It is now time to rewrite the previous equations as a system of linear equations and represent them as matrix multiplication. As shown in part 1 your equations, in matrix notation, should be in the following form.\n",
        "$$\n",
        "I = GV \n",
        "$$\n",
        "\n",
        "Take a good look at your equations, can you see what matrices $I$, $G$, and $V$ are actually representing with respect to the circuit parameters?\n",
        "\n",
        "Here is the answer:\n",
        "* $G$ : is the admittance/conductance matrix, it can be formulated based on resistors admittance $G_{ij}=1/R_{ij}$\n",
        "* $V$ : is the vector of unknown nodal voltages $V_1$ to $V_4$.\n",
        "* $I$ : is the vector of known current injections at the nodes. (Be carefull of the signs, the currents from the loads $I_{ld}$ are negative and the currents from sources $V_s/R_s$ are positive.)\n",
        "\n",
        "Double click on the text cell below and complete the matrix definitions based on your developed equations. Some elements are provided as hints, the rest that should be completed by you are denoted by question marks: \"?\". Note that we use LaTeX to write mathematical equations nicely in the text cells. A matrix is define in between \"\\\\ begin{bmatrix} ... \\\\ end{bmatrix}\" commands, its elements are seperated by \"&\", and a new row is defined using \"\\\\ \\\\\"."
      ]
    },
    {
      "cell_type": "markdown",
      "metadata": {
        "id": "uQuWv-_tVtTF"
      },
      "source": [
        "<font color=#6698FF>\n",
        " your answer here!\n",
        "$$\n",
        " G= \\begin{bmatrix}\n",
        "   ?? & ?? & -G02 & ?? \\\\\n",
        "   ?? & Gs1+G01+G12+G13 & ?? & ??\\\\\n",
        "   ?? & ?? & ?? & 0\\\\\n",
        "   ?? & ?? & ?? & ??\n",
        "  \\end{bmatrix} , \\tag{3}\n",
        "$$\n",
        "    \n",
        "<br> <br>\n",
        "\n",
        "$$\n",
        "V=\\begin{bmatrix}\n",
        "   V0 \\\\\n",
        "   V1 \\\\\n",
        "   V2 \\\\\n",
        "   V3\n",
        "  \\end{bmatrix}, \\qquad  I=\\begin{bmatrix}\n",
        "   ?? \\\\\n",
        "   Vs1/Rs1 \\\\\n",
        "   ?? \\\\\n",
        "   ??\n",
        "  \\end{bmatrix} \\tag{4}\n",
        "$$\n",
        "</font>"
      ]
    },
    {
      "cell_type": "markdown",
      "metadata": {
        "id": "jml7lDLMVPSD"
      },
      "source": [
        "Now, use the numerical values below to find the exact values of these matrices. You don't need to type or show them to us, but keep them for yourself. You will use them later to check and see if your code works properly. \n",
        "\n",
        "* $G_{01}= 1/R_{01}=0.3$, $G_{02}=0.4$, $G_{03}=0.3$, $G_{12}=0.4$, $G_{13}=0.2$ \n",
        "* $I_{ld} = 6$ (A)\n",
        "* $V_{s0}=380$, $V_{s1}=200$ (V)\n",
        "* $R_{s0}=5$ , $R_{s1}=4$ (Ohm)\n",
        "\n",
        "\n",
        "\n",
        "\n"
      ]
    },
    {
      "cell_type": "markdown",
      "metadata": {
        "id": "zShegwR5VuOa"
      },
      "source": [
        "## STEP 3: Implementation in Python\n",
        "\n",
        "Take a look at your equations above, do you see the patterns for forming matrix $G$ and $I$ based on the elements of the circuit. Can you now generalize it for any given circuit with any possible structure? let's do this in code!\n",
        "\n",
        "\n",
        "💡 Quick Tips: To generalize, you can consider the circuit having all the possible elements and connections in it. In case these connections don't exist in a given circuit, we can then replace their variables with zero.\n",
        "\n",
        "\n"
      ]
    },
    {
      "cell_type": "markdown",
      "metadata": {
        "id": "oFSqnfc3D1ed"
      },
      "source": [
        "### 3.1. Defining the circuit structure and values\n",
        "To implement this circuit in code and automatically solve the equations, we should first be able to represent it as a set of variables. These variables should summarize and present the structure of the circuit. \n",
        "- n : the amount of nodes\n",
        "- m : the amount of branches,\n",
        "- lines : the mx2 matrix where the branches are defined. Each row contains the two node indices to which the branch (resistor) is connected. For example for the circuit in Fig. 1: lines = [0 1; 0 2; 0 3; 1 2; 1 3],\n",
        "- gen : the vector including the node indicies to which sources are connected. \n",
        "- ld : the vector including the node indicies to which loads are connected. \n",
        "\n",
        "Complete the code below, to define these values for the circuit in Fig. 1."
      ]
    },
    {
      "cell_type": "code",
      "metadata": {
        "id": "wHJOY2jsgKu3"
      },
      "source": [
        "n = #your code  # scalar\n",
        "m = #your code  # scalar\n",
        "lines =  #your code # 2D array of shape (5, 2)\n",
        "gen = #your code # 1D array of shape (2,)\n",
        "ld = #your code # 1D array of shape (1,)\n"
      ],
      "execution_count": null,
      "outputs": []
    },
    {
      "cell_type": "markdown",
      "metadata": {
        "id": "4ywkahJweq50"
      },
      "source": [
        "To be able to numerically solve this problem we should be given the numeric values of the resistors, voltages and currents. We present these values in the following vectors:\n",
        "- Gp : the primitive mx1 branch conductance (1/Ohm) vector.\n",
        "- Vs : the vector of voltages (V) for the sources. \n",
        "- Rs : the vector of internal resistances (Ohm) of the sources. \n",
        "- I_ld : the vector of currents (A) of the loads. \n",
        "\n",
        "Run the code below which provides these numerical values for the circuit. Note that we should define these as column vectors (having only one column) for later use."
      ]
    },
    {
      "cell_type": "code",
      "metadata": {
        "id": "VhpZCp34gaaG"
      },
      "source": [
        "Gp   = np.array([0.3,0.4,0.3,0.4,0.2])[:,np.newaxis] # 2D array of shape (5,1)\n",
        "I_ld = np.array([[6]]); # 2D array of shape (1,1)\n",
        "Vs   = np.array([380, 200])[:,np.newaxis] # 2D array of shape (2,1)\n",
        "Rs   = np.array([5, 4])[:,np.newaxis] # 2D array of shape (2,1)"
      ],
      "execution_count": null,
      "outputs": []
    },
    {
      "cell_type": "markdown",
      "metadata": {
        "id": "Ms5FspKdZNku"
      },
      "source": [
        "⚠️ Important Note: You should be very careful with shapes (1D or 2D, and number of rows and columns) when working with arrays and performing matrix operations or indexing. In this assignment, we almost define all the variables as 2D arrays except for scalars and `gen` and `ld`. This is because `gen` and `ld` are only used for indexing 2D arrays, so they should be 1D. For column or row vectors like $I$, we also used 2D arrays of size (m,1). \n",
        "You can of course define them as 1D arrays but be consistent  and fix errors that may arrise specially when performing operation between arrays."
      ]
    },
    {
      "cell_type": "markdown",
      "metadata": {
        "id": "sxDBVj_Mg0in"
      },
      "source": [
        "### 3.2. Automatic generation of $I$, $G$\n",
        "It's now time to automatically make vector $I$, and matrix $G$ using the variables we defined above. Complete `make_I()` and `make_G()` functions that take the circuit specifications as input and give these matrices as output. Note that your code should be able to work for any other set of variables for any given circuit. "
      ]
    },
    {
      "cell_type": "code",
      "metadata": {
        "id": "_guRxbPVg2Gb"
      },
      "source": [
        "# define I using Equation 4, \n",
        "\n",
        "def make_I(n, ld, gen, Vs, Rs):\n",
        "\n",
        "    # step 1: make I as an  n-by-1 numpy array filled with zeros \n",
        "    I = #your code\n",
        "\n",
        "    # step 2: fill in the correct elements of I with currents produced by voltage sources, \n",
        "    # Note 1: use array indexing\n",
        "    I[gen] = #your code # only one line of code allowed with no for loops\n",
        "\n",
        "    # step 3: fill in the correct elements with current by loads\n",
        "    # Note 2: use array indexing\n",
        "    I[ld] = #your code # only one line of code allowed with no for loops\n",
        "    \n",
        "    return I"
      ],
      "execution_count": null,
      "outputs": []
    },
    {
      "cell_type": "markdown",
      "metadata": {
        "id": "XIiGsOp7VPSI"
      },
      "source": [
        "Now let's call this function with values we already defined for circuit 1 and Print $I$. Make sure it matches your own calculations in step 2."
      ]
    },
    {
      "cell_type": "code",
      "metadata": {
        "id": "If4NJxduVPSJ"
      },
      "source": [
        "# make I for circuit 1\n",
        "I= make_I(#your code)\n",
        "\n",
        "# print I\n",
        "print(I)"
      ],
      "execution_count": null,
      "outputs": []
    },
    {
      "cell_type": "markdown",
      "metadata": {
        "id": "d4Q757Q8VPSJ"
      },
      "source": [
        "Now complete the definition of matrix G in the code below\n",
        "\n",
        "\n",
        "💡 Quick Tips: note that this is a rather deficult task. You are free to choose your approach but if you have no clue you can try to break it into smaller steps. First define the G matrix as a 2D array filled with zero, next you can loop through the voltage sources (indices are stored in \"gen\") and add their conductance to the corresponding elements of G. Finally you can loop through the branches defined in `lines` and for each branch add or subtract its conductance from corresponding elements. "
      ]
    },
    {
      "cell_type": "code",
      "metadata": {
        "id": "LxjLgUp_hodi"
      },
      "source": [
        "# create G usig Equation 3\n",
        "def make_G(n, gen, lines, Gp):\n",
        "\n",
        "    # note: Do it in steps and add comments to make your code more readable, loops are allowed, \n",
        "    \n",
        "    # your code\n",
        "    \n",
        "    return G"
      ],
      "execution_count": null,
      "outputs": []
    },
    {
      "cell_type": "markdown",
      "metadata": {
        "id": "UdE_vK3GVPSK"
      },
      "source": [
        "Let's call this function too. Print $G$ and check if it matches with your own calculations in step 2."
      ]
    },
    {
      "cell_type": "code",
      "metadata": {
        "id": "CIi-E_jRVPSL"
      },
      "source": [
        "G= #your code\n",
        "print(G)"
      ],
      "execution_count": null,
      "outputs": []
    },
    {
      "cell_type": "markdown",
      "metadata": {
        "id": "NOc46gn7__jm"
      },
      "source": [
        "### 3.3. Calculating $V$\n",
        "It is now very easy to solve this problem and find V (see step 1 if you forgot how). Complete the code below."
      ]
    },
    {
      "cell_type": "code",
      "metadata": {
        "id": "m3tV8gUrhqEH"
      },
      "source": [
        "# find G^-1\n",
        "inv_G = #your code\n",
        "\n",
        "# find V\n",
        "V = #your code\n",
        "\n",
        "#print V\n",
        "print(V)"
      ],
      "execution_count": null,
      "outputs": []
    },
    {
      "cell_type": "markdown",
      "metadata": {
        "id": "QrPZAP1yg1Ds"
      },
      "source": [
        "## STEP 4: A more extensive Circuit\n",
        "In this part we create a circuit with randomly assigned values and then repeat the steps we did in part 3 to find the nodal voltages in $V$."
      ]
    },
    {
      "cell_type": "markdown",
      "metadata": {
        "id": "UpLMdJ_9-B3D"
      },
      "source": [
        "### 4.1. Specifying the circuit\n",
        "\n",
        "Use function `make_random_circuit(sn)` below to create a random circuit. It takes the last two digits of your student number `sn` and creats a random circuit specifically for you. This circuit has n=10 nodes, m=14 branches. There are also ni=4 current sources, and nv=2 voltage sources with randomly assigned values and locations. The randomly assigned branches are also assigned random cunductance values. The code is hidden and you only need to run it using the play button. If you are interested for details click on \"show code\". To hide it again you can go to: View > show/hide code.\n",
        "\n",
        "📣 (optional) If you are looking for something more challengin, try to write this function yourself. Note that the random values should be in the following range: Gp $\\in [0.1, 0.5]$, I_ld $\\in [1, 25]$ , Vs $\\in [100,400]$ , Rs $\\in [1,9]$."
      ]
    },
    {
      "cell_type": "code",
      "metadata": {
        "id": "-Y2o77ZuFIx3",
        "cellView": "form"
      },
      "source": [
        "#@title function: make_random_circuit\n",
        "def make_random_circuit(sn):\n",
        "    \n",
        "    np.random.seed(sn) \n",
        "\n",
        "    # Part 1: fixed variables\n",
        "\n",
        "    n = 10;         # number of nodes\n",
        "    m = 14;         # number of edges\n",
        "\n",
        "    ni = 4;         # number of current sources\n",
        "    nv = 2;         # number of voltage sources\n",
        "\n",
        "    Gpmin = 0.1;    # minimum value for line conductance\n",
        "    Gpmax = 0.5;    # maximum value for line conductance\n",
        "\n",
        "    I_ldmin = 1;    # minimum value of current source\n",
        "    I_ldmax = 25;   # maximum value of current source\n",
        "\n",
        "    Vsmin = 100;    # minimum value of voltage source\n",
        "    Vsmax = 400;    # maximum value of voltage source\n",
        "\n",
        "    Rsmin = 1;      # minimum internal resistance of voltage source\n",
        "    Rsmax = 9;      # minimum internal resistance of voltage source\n",
        "\n",
        "    # Part 2: randomly assigned values\n",
        "\n",
        "    # create line conductances\n",
        "    Gp = Gpmin + (Gpmax-Gpmin)*np.random.rand(m,1);\n",
        "\n",
        "    # create source locations\n",
        "    s = np.random.permutation(n);\n",
        "    ld = s[0:ni];\n",
        "    gen = s[ni:ni+nv];\n",
        "\n",
        "    # create current sources\n",
        "    I_ld = I_ldmin + (I_ldmax-I_ldmin)*np.random.rand(ni,1);\n",
        "\n",
        "    # create voltage sources\n",
        "    Vs = Vsmin + (Vsmax-Vsmin)*np.random.rand(nv,1);\n",
        "\n",
        "    # create internal resistances of voltage sources\n",
        "    Rs = Rsmin + (Rsmax-Rsmin)*np.random.rand(nv,1);\n",
        "\n",
        "    # create lines: \n",
        "    #1- making all possible lines 0<i<j<m \n",
        "    all_lines=[]\n",
        "    for i in range(n):\n",
        "        for j in range(i+1,n):\n",
        "            all_lines.append([i,j])\n",
        "    #2- shuffel and select m first lines       \n",
        "    np.random.shuffle(all_lines)\n",
        "    lines=np.asarray(all_lines[:m]) \n",
        "    #print(lines) \n",
        "    \n",
        "    return n,m,ld, gen, lines, Gp, I_ld, Vs, Rs\n"
      ],
      "execution_count": null,
      "outputs": []
    },
    {
      "cell_type": "code",
      "metadata": {
        "id": "u6ZyCyXqSysz"
      },
      "source": [
        "# make your own random circuit\n",
        "sn= #last two digits of your student number, add 1 if yo0u get error in 4.2.\n",
        "n,m,ld, gen, lines, Gp, I_ld, Vs, Rs = make_random_circuit(sn)\n"
      ],
      "execution_count": null,
      "outputs": []
    },
    {
      "cell_type": "markdown",
      "metadata": {
        "id": "nWIUHChY8qK-"
      },
      "source": [
        "### 4.2. Calculating nodal voltages $V$ \n",
        "\n",
        "We now put the separate parts in step 3 togrther in a function to solve the circuit in one step. You should call  the  functions you developed in part 3 and  your code should be able to work for any given circuit, if that's not the case go back and edit/debug the `make_I` and `make_G` functions in the previous section.\n"
      ]
    },
    {
      "cell_type": "code",
      "metadata": {
        "id": "8mqOA-UyVPSO"
      },
      "source": [
        "def find_node_voltages(n,m,ld, gen, lines, Gp, I_ld, Vs, Rs):\n",
        "    \n",
        "    #your code\n",
        "    \n",
        "    return V\n"
      ],
      "execution_count": null,
      "outputs": []
    },
    {
      "cell_type": "markdown",
      "metadata": {
        "id": "I4NJArM_VPSO"
      },
      "source": [
        "Now we can call this function to find V. \n",
        "\n",
        "⚠️ Important Note: Be carefull if you get the following error \"LinAlgError: Singular matrix\". It may have two reasons: \n",
        "\n",
        "1.   your circuit is not valid meaning that a node is not connected to anything or it is only connected to a load (like circuit 1 shown in step 4.3). Go to step 4.3. draw your circuit and check if that's the case. If it is, add this description and reasoning in section 4.3 and then go back to step 4.1 and add 1 to you student number, repeat the steps to make a new circuit and check again untill you get a valid circuit. If it happened again (which is very unlucky) add 1 to your student number and repeat the steps.\n",
        "2.   it is also possible that your code from step 3 is incorrect, in that case you will get an error even if your ircuit is valid. You need to go back to previous steps (2 and 3) and make sure your equations and codes for making matrix G is correct. \n",
        "\n",
        "We strongly recommend you to do a quick check with a TA to save time and avoid further confusion.\n"
      ]
    },
    {
      "cell_type": "code",
      "metadata": {
        "id": "bf6Uje5scc_n"
      },
      "source": [
        "V = #your code\n",
        "print(V)"
      ],
      "execution_count": null,
      "outputs": []
    },
    {
      "cell_type": "markdown",
      "metadata": {
        "id": "10x6O-QOrLbl"
      },
      "source": [
        "### 4.3. Plot the circuit and analyze it visually\n",
        "\n",
        "The circuit generator code randomely assigns values to variables and does not check if the final circuit is a valid one or not. To check the circuit, you need to plot it by hand. Depending on your circuit, you may get nodes that are not connected to the circuit or are only connected to a load or a source like node $N_0$ in circuit 1 shown below. In this case you will get an error when calculating $G^{-1}$ and you need to make a new circuit as noted before. Another case that may happen is that your graph is disconnected and one part is only connected to loads like in circuit 2. Since we consider loads as negative current sources your code will work with no error but you will get negative values for some node voltages. This is fine for simulation and you don't need to make a new circuit but you have to be carefull that this is not a valid circuit in practice and part of your circuit won't turn on at all as there is no source. One other issue is that some nodes may be connected only by resistors in an open circuit like nodes $N_0$ and $N_1$ in circuit 3. Your code will run then but as expected you will get similar voltages for all these nodes.  \n",
        "#![picture two](https://drive.google.com/uc?export=view&id=1Kj8J2E7Q3EmaexDHMPHQGdshAZqyOCmW)\n",
        "\n",
        "Now Plot your own circuit, like the example shown above. To share it with us save it on your google drive and right click on it to get a link, make sure you chose \"share with any one with the link\" option. Now only copy the ID in the link (that is the red part in the example below):\n",
        "\n",
        "//drive.google.com/file/d/<font color='red'>1Kj8J2E7Q3EmaexDHMPHQGdshAZqyOCmW</font>/view?usp=sharing\n",
        "\n",
        "\n",
        "and now double click on the question cell below and replace \"yourID\" with the ID you just got. After running the cell (shift+enter), you should see your picture.\n",
        "\n",
        "\n"
      ]
    },
    {
      "cell_type": "markdown",
      "metadata": {
        "id": "ONfD-6zG9VVo"
      },
      "source": [
        "\n",
        "#![Your Picture](https://drive.google.com/uc?export=view&id=yourID)"
      ]
    },
    {
      "cell_type": "markdown",
      "metadata": {
        "id": "JUabsEXTAE3B"
      },
      "source": [
        "Add a few lines below describing your circuit. Is it a valid circuit both in code and in practice? did you get any similar node volatges or negetive values? \n",
        "\n",
        "<font color=#6698FF>\n",
        "# your answer here!\n",
        "</font>\n",
        "\n"
      ]
    },
    {
      "cell_type": "markdown",
      "metadata": {
        "id": "1m2Z6VS6CS2V"
      },
      "source": [
        "## You are done! Nice Job!\n",
        "\n",
        "That was it! You finished your first programming assignment in python! Nice job and hope you are not feeling like this 👇😄\n",
        "#![picture one](https://drive.google.com/uc?export=view&id=1sZXLOuI3R0kXeYehs_uvpSKe-F8x0DYF)"
      ]
    },
    {
      "cell_type": "code",
      "metadata": {
        "id": "XFbpTZ7Zg_bI"
      },
      "source": [
        ""
      ],
      "execution_count": null,
      "outputs": []
    }
  ]
}